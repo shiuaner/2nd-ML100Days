{
 "cells": [
  {
   "cell_type": "markdown",
   "metadata": {},
   "source": [
    "## 練習時間\n",
    "#### 請寫一個函式用來計算 Mean Square Error\n",
    "$ MSE = \\frac{1}{n}\\sum_{i=1}^{n}{(Y_i - \\hat{Y}_i)^2} $\n",
    "\n",
    "### Hint: [如何取平方](https://googoodesign.gitbooks.io/-ezpython/unit-1.html)"
   ]
  },
  {
   "cell_type": "code",
   "execution_count": 21,
   "metadata": {},
   "outputs": [],
   "source": [
    "import numpy as np\n",
    "import matplotlib.pyplot as plt"
   ]
  },
  {
   "cell_type": "code",
   "execution_count": 22,
   "metadata": {},
   "outputs": [],
   "source": [
    "#作業一\n",
    "\"\"\"\n",
    "選擇主題：https://www.kaggle.com/c/two-sigma-financial-news\n",
    "Two Sigma: Using News to Predict Stock Movements\n",
    "\n",
    "1. 你選的這組資料為何重要 \n",
    "ans: 如何達到財富自由、享受退休人生是現在的熱門議題，其中投資報酬率是影響何時達標的重要一環。\n",
    "假使可以利用新聞預測出股票價格趨勢，可以提供無太多理財專業的一般民眾一個較為輕鬆理財的方式。\n",
    "\n",
    "2. 資料從何而來 (tips: 譬如提供者是誰、以什麼方式蒐集)\n",
    "ans:\n",
    "資料來源可分成兩部分\n",
    "part1-Market data (2007 to present) provided by Intrinio - \n",
    "contains financial market information such as opening price, closing price, trading volume, calculated returns, etc.\n",
    "\n",
    "part2-News data (2007 to present) Source: Thomson Reuters - \n",
    "contains information about news articles/alerts published about assets, such as article details, sentiment, and other commentary.\n",
    "\n",
    "3. 蒐集而來的資料型態為何\n",
    "Part1-marketdata has following columns:\n",
    "time(datetime64[ns, UTC]) \n",
    "assetCode(object) \n",
    "assetName(category) \n",
    "universe(float64)   \n",
    "volume(float64) \n",
    "close(float64) \n",
    "open(float64) \n",
    "returnsClosePrevRaw1(float64) \n",
    "returnsOpenPrevRaw1(float64) \n",
    "returnsClosePrevMktres1(float64) \n",
    "returnsOpenPrevMktres1(float64) \n",
    "returnsClosePrevRaw10(float64)\n",
    "returnsOpenPrevRaw10(float64) \n",
    "returnsClosePrevMktres10(float64) \n",
    "returnsOpenPrevMktres10(float64) \n",
    "returnsOpenNextMktres10(float64) \n",
    "\n",
    "Part2-newsdata has following columns:\n",
    "time(datetime64[ns, UTC]) \n",
    "sourceTimestamp(datetime64[ns, UTC]) \n",
    "firstCreated(datetime64[ns, UTC]) \n",
    "sourceId(object) \n",
    "headline(object) \n",
    "urgency(int8) \n",
    "takeSequence(int16) \n",
    "provider(category) \n",
    "subjects(category) \n",
    "audiences(category) \n",
    "bodySize(int32) \n",
    "companyCount(int8) \n",
    "headlineTag(object) \n",
    "marketCommentary(bool) \n",
    "sentenceCount(int16) \n",
    "wordCount(int32)\n",
    "assetCodes(category) \n",
    "assetName(category) \n",
    "firstMentionSentence(int16) \n",
    "relevance(float32) \n",
    "sentimentClass(int8) \n",
    "sentimentNegative(float32) \n",
    "sentimentNeutral(float32) \n",
    "sentimentPositive(float32) \n",
    "sentimentWordCount(int32) \n",
    "noveltyCount12H(int16) \n",
    "noveltyCount24H(int16) \n",
    "noveltyCount3D(int16) \n",
    "noveltyCount5D(int16) \n",
    "noveltyCount7D(int16) \n",
    "volumeCounts12H(int16) \n",
    "volumeCounts24H(int16) \n",
    "volumeCounts3D(int16) \n",
    "volumeCounts5D(int16)\n",
    "volumeCounts7D(int16) \n",
    "\n",
    "4. 這組資料想解決的問題如何評估\n",
    "我的目標是\n",
    "1-預測哪些新聞和股價漲跌呈現正相關或負相關\n",
    "2-若確定呈現相關性，預測漲跌程度\n",
    "\n",
    "可用迴歸常見指標如MAE, RMSE, ...etc進行分析\n",
    "\n",
    "\"\"\"\n",
    "\n",
    "#作業二\n",
    "\"\"\"\n",
    "想像你經營一個自由載客車隊，你希望能透過數據分析以提升業績，請你思考並描述你如何規劃整體的分析/解決方案：\n",
    "\n",
    "1. 核心問題為何 (tips：如何定義 「提升業績 & 你的假設」)\n",
    "ans:\n",
    "業績提升的目標是總載客量提升\n",
    "\n",
    "2. 資料從何而來 (tips：哪些資料可能會對你想問的問題產生影響 & 資料如何蒐集)\n",
    "ans:\n",
    "a-每位司機每日的開車路線(停車點)-包含停車點的縣市路名等地址資料、分類停車點屬性，例如是便利商店或銀行或捷運站或火車站或住宅大樓、商業大樓等\n",
    "資料收集來源可以是行車記錄器、手機app行走記錄、導航記錄等\n",
    "b-每位司機每日每個地點的載客數量\n",
    "\n",
    "3. 蒐集而來的資料型態為何\n",
    "ans:\n",
    "停車點-文字\n",
    "停車點地址-文字\n",
    "停車點座標-數值(x,y)\n",
    "停車點分類屬性-文字\n",
    "司機每日載客量-數值\n",
    "\n",
    "4. 你要回答的問題，其如何評估 (tips：你的假設如何驗證)\n",
    "ans:\n",
    "a-停車點座標或地址是否和載客數量相關(可用迴歸常見指標如MAE, RMSE, ...etc進行分析)\n",
    "b-停車點屬性是否和載客量相關(可用迴歸常見指標如MAE, RMSE, ...etc進行分析)\n",
    "\n",
    "\"\"\"\n",
    "\n",
    "#作業三\n",
    "def mean_squared_error(y, y_hat):\n",
    "    \"\"\"\n",
    "    計算 MSE\n",
    "    Args:\n",
    "        - y: 實際值\n",
    "        - y_hat: 預測值\n",
    "    Return:\n",
    "        - mse: MSE\n",
    "    \"\"\"\n",
    "    mse = MSE = sum((y - y_hat) ** 2) / len(y)\n",
    "    return mse\n",
    "\n",
    "def mean_absolute_error(y, yp):\n",
    "    \"\"\"\n",
    "    計算 MAE\n",
    "    Args:\n",
    "        - y: 實際值\n",
    "        - yp: 預測值\n",
    "    Return:\n",
    "        - mae: MAE\n",
    "    \"\"\"\n",
    "    mae = MAE = sum(abs(y - yp)) / len(y)\n",
    "    return mae"
   ]
  },
  {
   "cell_type": "code",
   "execution_count": 23,
   "metadata": {},
   "outputs": [
    {
     "data": {
      "image/png": "[encoded data removed]",
      "text/plain": [
       "<Figure size 432x288 with 1 Axes>"
      ]
     },
     "metadata": {
      "needs_background": "light"
     },
     "output_type": "display_data"
    }
   ],
   "source": [
    "w = 3\n",
    "b = 0.5\n",
    "\n",
    "x_lin = np.linspace(0, 100, 101)\n",
    "\n",
    "y = (x_lin + np.random.randn(101) * 5) * w + b\n",
    "\n",
    "plt.plot(x_lin, y, 'b.', label = 'data points')\n",
    "plt.title(\"Assume we have data points\")\n",
    "plt.legend(loc = 2)\n",
    "plt.show()"
   ]
  },
  {
   "cell_type": "code",
   "execution_count": 24,
   "metadata": {},
   "outputs": [
    {
     "data": {
      "image/png": "[encoded data removed]",
      "text/plain": [
       "<Figure size 432x288 with 1 Axes>"
      ]
     },
     "metadata": {
      "needs_background": "light"
     },
     "output_type": "display_data"
    }
   ],
   "source": [
    "y_hat = x_lin * w + b\n",
    "plt.plot(x_lin, y, 'b.', label = 'data')\n",
    "plt.plot(x_lin, y_hat, 'r-', label = 'prediction')\n",
    "plt.title(\"Assume we have data points (And the prediction)\")\n",
    "plt.legend(loc = 2)\n",
    "plt.show()"
   ]
  },
  {
   "cell_type": "code",
   "execution_count": 25,
   "metadata": {},
   "outputs": [
    {
     "name": "stdout",
     "output_type": "stream",
     "text": [
      "The Mean squared error is 245.590\n",
      "The Mean absolute error is 13.172\n"
     ]
    }
   ],
   "source": [
    "# 執行 Function, 確認有沒有正常執行\n",
    "MSE = mean_squared_error(y, y_hat)\n",
    "MAE = mean_absolute_error(y, y_hat)\n",
    "print(\"The Mean squared error is %.3f\" % (MSE))\n",
    "print(\"The Mean absolute error is %.3f\" % (MAE))"
   ]
  },
  {
   "cell_type": "code",
   "execution_count": null,
   "metadata": {},
   "outputs": [],
   "source": []
  }
 ],
 "metadata": {
  "anaconda-cloud": {},
  "kernelspec": {
   "display_name": "Python 3",
   "language": "python",
   "name": "python3"
  },
  "language_info": {
   "codemirror_mode": {
    "name": "ipython",
    "version": 3
   },
   "file_extension": ".py",
   "mimetype": "text/x-python",
   "name": "python",
   "nbconvert_exporter": "python",
   "pygments_lexer": "ipython3",
   "version": "3.7.3"
  }
 },
 "nbformat": 4,
 "nbformat_minor": 1
}
